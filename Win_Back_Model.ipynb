{
 "cells": [
  {
   "cell_type": "code",
   "execution_count": null,
   "id": "efd5e6d1-bd96-4c65-865b-55a099c23aa3",
   "metadata": {},
   "outputs": [],
   "source": [
    "import pandas as pd\n",
    "import matplotlib.pyplot as plt\n",
    "import seaborn as sns\n",
    "import numpy as np"
   ]
  },
  {
   "cell_type": "code",
   "execution_count": null,
   "id": "c24825be-5c82-4c42-842b-52145d124323",
   "metadata": {},
   "outputs": [],
   "source": [
    "df_new = pd.read_csv(r'Watcho_DA_Subs_new_Mar12', sep='\\t', encoding='utf-8', index_col=0)"
   ]
  },
  {
   "cell_type": "code",
   "execution_count": null,
   "id": "6c424c34-3981-4888-af7e-3a0c9ebb335d",
   "metadata": {},
   "outputs": [],
   "source": [
    "df_new.head()"
   ]
  },
  {
   "cell_type": "code",
   "execution_count": null,
   "id": "b03b7367-f597-42ec-b5b8-578ab0b1d8bd",
   "metadata": {},
   "outputs": [],
   "source": [
    "# Summary statistics\n",
    "print(\"\\nSummary statistics:\")\n",
    "df_new.describe()"
   ]
  },
  {
   "cell_type": "code",
   "execution_count": null,
   "id": "d91cd8f6-b884-4366-b695-913c3ec09b00",
   "metadata": {},
   "outputs": [],
   "source": [
    "def missing_values_summary(df):\n",
    "    total = df.isnull().sum()\n",
    "    percent = (df.isnull().sum() / df.isnull().count() * 100)\n",
    "    missing_data = pd.DataFrame({'Total Missing': total, 'Percentage': percent})\n",
    "    return missing_data\n",
    "\n",
    "# Use the function and display the summary\n",
    "missing_summary = missing_values_summary(df_new)\n",
    "print(\"\\nMissing values summary:\")\n",
    "print(missing_summary)"
   ]
  },
  {
   "cell_type": "code",
   "execution_count": null,
   "id": "d088de4e-ccf3-4db6-a7fb-dad5dd2a061e",
   "metadata": {},
   "outputs": [],
   "source": [
    "#########  creating aggregated columns for last 3 months\n",
    "df_new['notification_sent_last_3_months'] = df_new['notification_sent_DEC_24'].fillna(0)+ df_new['notification_sent_JAN_25'].fillna(0)+df_new['notification_sent_sms_FEB_25'].fillna(0)\n",
    "df_new['notification_sent_sms_3_months'] = df_new['notification_sent_sms_DEC_24'].fillna(0)+df_new['notification_sent_sms_JAN_25'].fillna(0)+df_new['notification_sent_sms_FEB_25'].fillna(0)\n",
    "df_new['notification_clicked_3_months'] = df_new['notification_clicked_DEC_24'].fillna(0)+df_new['notification_clicked_JAN_25'].fillna(0)+df_new['notification_clicked_FEB_25'].fillna(0)\n",
    "df_new['notification_sent_watsapp_3_months'] = df_new['notification_sent_watsapp_DEC_24'].fillna(0)+df_new['notification_sent_watsapp_JAN_25'].fillna(0)+df_new['notification_sent_watsapp_FEB_25'].fillna(0)\n",
    "df_new['active_days_3_months'] = df_new['ActiveDays_Dec24'].fillna(0)+df_new['ActiveDays_Jan25'].fillna(0)+df_new['ActiveDays_Feb25'].fillna(0)\n",
    "df_new['revenue_last_3_months'] = df_new['Revenue_Dec24'].fillna(0)+df_new['Revenue_Jan25'].fillna(0)+df_new['Revenue_Feb25'].fillna(0)"
   ]
  },
  {
   "cell_type": "code",
   "execution_count": null,
   "id": "eeac8712-3d17-4aae-8bea-73411e365c20",
   "metadata": {},
   "outputs": [],
   "source": [
    "df_new = df_new.drop(columns=['notification_sent_DEC_24','notification_sent_JAN_25','notification_sent_FEB_25',\n",
    "                              'notification_sent_sms_DEC_24','notification_sent_sms_JAN_25','notification_sent_sms_FEB_25',\n",
    "                              'notification_clicked_DEC_24','notification_clicked_JAN_25','notification_clicked_FEB_25',\n",
    "                             'notification_sent_watsapp_DEC_24','notification_sent_watsapp_JAN_25','notification_sent_watsapp_FEB_25',\n",
    "                             'ActiveDays_Dec24','ActiveDays_Jan25','ActiveDays_Feb25',\n",
    "                             'Revenue_Dec24','Revenue_Jan25','Revenue_Feb25'])"
   ]
  },
  {
   "cell_type": "code",
   "execution_count": null,
   "id": "67d1aa56-7a90-4251-bbdc-0c1abd3aa951",
   "metadata": {},
   "outputs": [],
   "source": [
    "df_new"
   ]
  },
  {
   "cell_type": "code",
   "execution_count": null,
   "id": "7291be31-d56b-487c-adcb-82a1e534ee19",
   "metadata": {},
   "outputs": [],
   "source": [
    "df_new.groupby('customercategory').agg({'no_of_times_viewed_watcho_content_in_last_3_months':'sum'}).reset_index()"
   ]
  },
  {
   "cell_type": "code",
   "execution_count": null,
   "id": "9301c082-9569-4f3e-8596-2f79aeaf02b5",
   "metadata": {},
   "outputs": [],
   "source": [
    "df_new.groupby('customercategory').agg({'notification_clicked_3_months':'sum'}).reset_index()"
   ]
  },
  {
   "cell_type": "code",
   "execution_count": null,
   "id": "3e46694d-a6bf-4dc2-9263-24c732ce510d",
   "metadata": {},
   "outputs": [],
   "source": [
    "# Use the function and display the summary\n",
    "missing_summary = missing_values_summary(df_new)\n",
    "print(\"\\nMissing values summary:\")\n",
    "print(missing_summary)"
   ]
  },
  {
   "cell_type": "raw",
   "id": "b781cd6f-1619-451a-a5a8-47517cd408b5",
   "metadata": {},
   "source": [
    "# Remove columns with more than 70% missing values\n",
    "threshold = 0.70\n",
    "df = df_new.loc[:, df_new.isnull().mean() < threshold]"
   ]
  },
  {
   "cell_type": "code",
   "execution_count": null,
   "id": "2a0a8af5-f581-48fc-a222-9e5cefd67f34",
   "metadata": {},
   "outputs": [],
   "source": [
    "df = df_new"
   ]
  },
  {
   "cell_type": "code",
   "execution_count": null,
   "id": "87664dc6-03f1-4213-af7c-d2fa05b33b32",
   "metadata": {},
   "outputs": [],
   "source": [
    "### Creating current_packageid_Category from current_packageid\n",
    "\n",
    "conditions = [\n",
    "    (df['current_packageid'] > 0) & (df['current_packageid'] <= 50000),\n",
    "    (df['current_packageid'] > 50000) & (df['current_packageid'] <= 100000),\n",
    "    (df['current_packageid'] > 100000) & (df['current_packageid'] <= 150000),\n",
    "    (df['current_packageid'] > 150000) & (df['current_packageid'] <= 200000)\n",
    "]\n",
    "\n",
    "\n",
    "values = ['a. 0 - 50k', 'b. 50k - 1Lac.', 'c.1Lac. - 1.5Lac.','d.1.5Lac. - 2Lac.']\n",
    "\n",
    "# Create a new column 'B' based on the conditions\n",
    "df['current_packageid_Category'] = pd.cut(df['current_packageid'], bins=[0,50000, 100000, 150000, 200000], labels=values, right=False)\n",
    "\n",
    "df.head()"
   ]
  },
  {
   "cell_type": "raw",
   "id": "2dbe6787-d8b2-46fb-b2e1-aa555701d3d8",
   "metadata": {},
   "source": [
    "### Creating last price point category from last price point\n",
    "\n",
    "conditions = [\n",
    "    (df['last_price_point'] >-500) & (df['last_price_point'] <= 0),\n",
    "    (df['last_price_point'] > 0) & (df['last_price_point'] <= 500),\n",
    "    (df['last_price_point'] > 500) & (df['last_price_point'] <= 2500),\n",
    "    (df['last_price_point'] > 2500) & (df['last_price_point'] <= 5000),\n",
    "    (df['last_price_point'] > 5000) & (df['last_price_point'] <= 10000),\n",
    "    (df['last_price_point'] > 10000) & (df['last_price_point'] <= 20000),\n",
    "    (df['last_price_point'] > 20000) & (df['last_price_point'] <= 30000),\n",
    "    (df['last_price_point'] > 30000) & (df['last_price_point'] <= 40000)\n",
    "]\n",
    "\n",
    "\n",
    "values = ['a. -500 - 0', 'b. 0 - 500', 'c. 500 - 2500','d.2500 - 10000','e.10000 - 20000','20000 - 30000','30000 - 40000']\n",
    "\n",
    "# Create a new column 'B' based on the conditions\n",
    "df['last_price_point_Category'] = pd.cut(df['last_price_point'], bins=[-500,0, 500, 2500,5000, 10000,20000, 30000], labels=values, right=False)\n",
    "\n",
    "df"
   ]
  },
  {
   "cell_type": "raw",
   "id": "10a03bb1-216c-4e0c-9713-90b2d88ecd43",
   "metadata": {},
   "source": [
    "####  Working with column --- current_packageid \n",
    "#### as it has 913 categories \n",
    "\n",
    "# Define the number of bins\n",
    "num_bins = 5\n",
    "\n",
    "# Calculate the bin edges\n",
    "min_value = df['current_packageid'].min()\n",
    "max_value = df['current_packageid'].max()\n",
    "bins = np.linspace(min_value, max_value, num_bins + 1)\n",
    "\n",
    "# Round the bin edges to the nearest 1000's\n",
    "bins = np.round(bins / 1000) * 1000\n",
    "bins[0] = np.floor(min_value / 1000) * 1000\n",
    "bins[-1] = np.ceil(max_value / 1000) * 1000\n",
    "bins\n",
    "\n",
    "# Ensure bin edges are unique by adding a small value to duplicates\n",
    "bins = np.unique(bins)\n",
    "\n",
    "# Create labels for the bins\n",
    "labels = [f'{int(bins[i])}-{int(bins[i+1]-1)}' for i in range(len(bins) - 1)]\n",
    "labels\n",
    "\n",
    "# Create a new column with categories based on the value range\n",
    "df['current_packageid_Category'] = pd.cut(df['current_packageid'], bins=bins, labels=labels, include_lowest=True)"
   ]
  },
  {
   "cell_type": "code",
   "execution_count": null,
   "id": "fecdeb6e-7c0e-4be6-98d7-a71559c2f38e",
   "metadata": {},
   "outputs": [],
   "source": [
    "# checking if we missed any packageid value while bining i.e. no category assigned \n",
    "df[df['current_packageid_Category'].isnull() == True]"
   ]
  },
  {
   "cell_type": "code",
   "execution_count": null,
   "id": "2c374b19-d88d-499a-8436-abda4b0a51ea",
   "metadata": {},
   "outputs": [],
   "source": [
    "df"
   ]
  },
  {
   "cell_type": "code",
   "execution_count": null,
   "id": "6871595c-ecdf-4d1e-9801-1aa05224e1fb",
   "metadata": {},
   "outputs": [],
   "source": [
    "missing_summary = missing_values_summary(df)\n",
    "print(\"\\nMissing values summary:\")\n",
    "print(missing_summary)"
   ]
  },
  {
   "cell_type": "code",
   "execution_count": null,
   "id": "639889d6-6d9d-4b8a-b10c-879a5018ec67",
   "metadata": {},
   "outputs": [],
   "source": [
    "## columns with NAN that can be replaced with 0\n",
    "\n",
    "columns_to_replace = ['Is_hotstar_subscriber','Is_sonyliv_subscriber','Is_zee5_subscriber','Is_hungama_subscriber','Is_fancode_subscriber',\n",
    "                      'Is_chaupal_subscriber','active_days_3_months','last_price_point','no_of_renewals','Days_since_last_renewal',\n",
    "                      'no_of_times_viewed_watcho_content_in_last_3_months','notification_clicked_3_months',\n",
    "                      'no_of_times_viewed_clicked_content_in_last_3_months_HotStar','no_of_times_viewed_clicked_content_in_last_3_months_Zee5']\n",
    "\n",
    "\n",
    "df.loc[:, columns_to_replace] = df.loc[:, columns_to_replace].where(pd.notna(df.loc[:, columns_to_replace]), 0)"
   ]
  },
  {
   "cell_type": "code",
   "execution_count": null,
   "id": "64a32381-17c2-40cd-abad-16142442c56c",
   "metadata": {},
   "outputs": [],
   "source": [
    "## Columns with NAN that can be replaced with Mode\n",
    "\n",
    "# List of columns to fill\n",
    "columns_to_fill = ['RevenueRenewal','Current_Debit_mode']\n",
    "\n",
    "# Apply the filling operation only to the selected columns\n",
    "df_clean = df.copy()\n",
    "df_clean[columns_to_fill] = df_clean[columns_to_fill].apply(lambda x: x.fillna(x.value_counts().index[0]))\n"
   ]
  },
  {
   "cell_type": "code",
   "execution_count": null,
   "id": "b1207864-ced5-4d45-a93e-9f19f9e4990a",
   "metadata": {},
   "outputs": [],
   "source": [
    "pd.set_option('display.max_columns', None)\n",
    "df"
   ]
  },
  {
   "cell_type": "code",
   "execution_count": null,
   "id": "2e5a86ef-a498-4ac7-b9ed-11fff764b26d",
   "metadata": {},
   "outputs": [],
   "source": [
    "missing_summary = missing_values_summary(df_clean)\n",
    "print(\"\\nMissing values summary:\")\n",
    "print(missing_summary)"
   ]
  },
  {
   "cell_type": "code",
   "execution_count": null,
   "id": "8f1eb083-6243-4fd0-9b61-ddd903bebca7",
   "metadata": {},
   "outputs": [],
   "source": [
    "df_clean['DTH_Status'].value_counts()"
   ]
  },
  {
   "cell_type": "code",
   "execution_count": null,
   "id": "a4dbc280-f80a-4112-a747-9a09693b7dfe",
   "metadata": {},
   "outputs": [],
   "source": [
    "df_clean"
   ]
  },
  {
   "cell_type": "code",
   "execution_count": null,
   "id": "f6c7a8ac-3fc5-4823-8dde-6bf0a6402467",
   "metadata": {},
   "outputs": [],
   "source": [
    "categorical_columns = ['RevenueRenewal','customercategory','Current_Debit_mode','current_packageid_Category','Smart_Plus_Customer','DTH_Status',\n",
    "                       'Is_hotstar_subscriber','Is_sonyliv_subscriber','Is_zee5_subscriber','Is_hungama_subscriber','Is_fancode_subscriber',\n",
    "                       'Is_chaupal_subscriber','is_first_time_da']\n",
    "\n",
    "cat_col_requiring_cat = ['RevenueRenewal','customercategory','Current_Debit_mode','current_packageid_Category','Smart_Plus_Customer','DTH_Status']\n",
    "\n",
    "numeric_columns = ['Days_since_last_renewal','AON','no_of_renewals','last_price_point','no_of_times_viewed_watcho_content_in_last_3_months',\n",
    "                   'notification_clicked_3_months','notification_sent_last_3_months','notification_sent_sms_3_months',\n",
    "                   'notification_sent_watsapp_3_months','notification_clicked_3_months','notification_sent_watsapp_3_months',\n",
    "                  'no_of_times_viewed_clicked_content_in_last_3_months_HotStar','no_of_times_viewed_clicked_content_in_last_3_months_Zee5']        "
   ]
  },
  {
   "cell_type": "raw",
   "id": "abcbb15c-fcb9-4735-b225-d16e21e44c81",
   "metadata": {},
   "source": [
    "# Won't work as there are numeric categories or the columns are flags as 1 or 0\n",
    "# Identify numeric and categorical columns\n",
    "numeric_columns = df_new.select_dtypes(include=['number']).columns.tolist()\n",
    "categorical_columns = df_new.select_dtypes(include=['object']).columns.tolist()\n"
   ]
  },
  {
   "cell_type": "code",
   "execution_count": null,
   "id": "234756e3-bbbc-40a1-a42d-a2ff83edccfe",
   "metadata": {},
   "outputs": [],
   "source": [
    "categorical_columns"
   ]
  },
  {
   "cell_type": "code",
   "execution_count": null,
   "id": "6d30afdf-70b5-4986-b8dc-68bcc3d705b5",
   "metadata": {},
   "outputs": [],
   "source": [
    "numeric_columns"
   ]
  },
  {
   "cell_type": "code",
   "execution_count": null,
   "id": "654c0ab3-6871-4a32-9929-3761e27d570d",
   "metadata": {},
   "outputs": [],
   "source": [
    "# Create data profile for numeric columns\n",
    "for col in numeric_columns:\n",
    "    print(f\"Data Profile for Numeric Column: {col}\")\n",
    "    print(df_clean[col].describe())\n",
    "    plt.figure(figsize=(10, 5))\n",
    "    sns.histplot(df_new[col], kde=True)\n",
    "    plt.title(f'Distribution of {col}')\n",
    "    plt.show()"
   ]
  },
  {
   "cell_type": "code",
   "execution_count": null,
   "id": "e20380f9-6417-48d8-abc5-c98622d457fd",
   "metadata": {},
   "outputs": [],
   "source": [
    "# Plotting categorical columns\n",
    "for col in categorical_columns:\n",
    "    plt.figure(figsize=(10, 5))\n",
    "    sns.countplot(x=col, data=df_clean)\n",
    "    plt.title(f'Distribution of {col}')\n",
    "    plt.show()"
   ]
  },
  {
   "cell_type": "raw",
   "id": "2fbd9a70-724d-479e-8518-947636eeb047",
   "metadata": {},
   "source": [
    "### Looking at values for Last price point -- to find a capping value ---  5000\n",
    "dict(sorted(df_new['last_price_point'].value_counts().to_dict().items(), reverse = True))"
   ]
  },
  {
   "cell_type": "code",
   "execution_count": null,
   "id": "bde17d1b-4b8f-4b3c-8eff-da7b9d3f762b",
   "metadata": {},
   "outputs": [],
   "source": [
    "# Calculate the correlation matrix\n",
    "correlation_matrix = df_clean[numeric_columns].corr()\n",
    "\n",
    "print(\"Correlation Matrix:\")\n",
    "print(correlation_matrix) "
   ]
  },
  {
   "cell_type": "code",
   "execution_count": null,
   "id": "2f028168-a50c-4193-aa85-968a47e3a354",
   "metadata": {},
   "outputs": [],
   "source": [
    "### Outlier management for Numerical columns \n",
    "###outliers_columns = ['no_of_renewals','last_price_point']\n",
    "\n",
    "def Capping_value(df, Cols_operation):\n",
    "    for col, operation in Cols_operation.items():\n",
    "        df[col] = df[col].apply(operation)\n",
    "    return df        \n",
    "    \n",
    "\n",
    "Cols_operation = {\n",
    "    'no_of_renewals': lambda x: 0 if x < 0 else (20 if x >20 else x),\n",
    "    'last_price_point': lambda x: 0 if x < 0 else(2000 if x > 2000 else x)\n",
    "    }\n",
    "\n",
    "\n",
    "df = Capping_value(df_clean,Cols_operation)"
   ]
  },
  {
   "cell_type": "code",
   "execution_count": null,
   "id": "76555ff6-deb6-49d7-93a8-7cdeac6c111a",
   "metadata": {},
   "outputs": [],
   "source": [
    "df = df.drop(columns=['current_packageid','Status_on_30Nov','activationdate','Last_Renewal_date','Is_livetv_subscriber',\n",
    "                     'no_of_times_viewed_watcho_content_in_last_3_months_HotStar','no_of_times_viewed_watcho_content_in_last_3_months_Zee5'])"
   ]
  },
  {
   "cell_type": "code",
   "execution_count": null,
   "id": "fdd4ac63-624a-44dc-bad7-aaaf9f301d10",
   "metadata": {},
   "outputs": [],
   "source": [
    "df"
   ]
  },
  {
   "cell_type": "code",
   "execution_count": null,
   "id": "ca9eea8c-aa08-4643-96f1-562481665f8a",
   "metadata": {},
   "outputs": [],
   "source": [
    "from sklearn.preprocessing import MinMaxScaler\n",
    "from sklearn.model_selection import train_test_split\n",
    "from sklearn.linear_model import LogisticRegression\n",
    "from sklearn.metrics import confusion_matrix"
   ]
  },
  {
   "cell_type": "code",
   "execution_count": null,
   "id": "d3f8d6a7-cf58-40e8-aa60-c6d3ee0b8862",
   "metadata": {},
   "outputs": [],
   "source": [
    "## Normalisation\n",
    "scaler = MinMaxScaler()\n",
    "df[numeric_columns] = scaler.fit_transform(df[numeric_columns])"
   ]
  },
  {
   "cell_type": "code",
   "execution_count": null,
   "id": "04fc6547-0adb-4ecb-9c55-35d479a720c0",
   "metadata": {},
   "outputs": [],
   "source": [
    "# One hOt encoding\n",
    "df = pd.get_dummies(df,columns = cat_col_requiring_cat, drop_first = True)\n",
    "df\n",
    " "
   ]
  },
  {
   "cell_type": "code",
   "execution_count": null,
   "id": "72b8fdb7-d05a-40a5-bb37-8654da6481d5",
   "metadata": {},
   "outputs": [],
   "source": [
    "df.to_csv(\"Preprocessed Data.csv\", encoding = \"utf-8\")"
   ]
  },
  {
   "cell_type": "code",
   "execution_count": null,
   "id": "f1711196-bd23-47a1-bf61-85be9c177557",
   "metadata": {},
   "outputs": [],
   "source": [
    "df = df.drop('smsid', axis =1)"
   ]
  },
  {
   "cell_type": "code",
   "execution_count": null,
   "id": "087c8085-f79a-4f32-8f4d-70b6da6f5ff8",
   "metadata": {},
   "outputs": [],
   "source": [
    "df['Status_As_on_28Feb'] = df['Status_As_on_28Feb'].apply(lambda x: 0 if x == 'Deactive' else 1)"
   ]
  },
  {
   "cell_type": "code",
   "execution_count": null,
   "id": "a14766b7-8e61-4170-9cbc-0630c06fec07",
   "metadata": {},
   "outputs": [],
   "source": [
    "X = df.drop('Status_As_on_28Feb', axis=1)\n",
    "y = df['Status_As_on_28Feb']"
   ]
  },
  {
   "cell_type": "code",
   "execution_count": null,
   "id": "c5fef544-9a58-4ed5-9685-627d21739f94",
   "metadata": {},
   "outputs": [],
   "source": [
    "df"
   ]
  },
  {
   "cell_type": "code",
   "execution_count": null,
   "id": "4701d1ea-d144-463e-a10d-fa13bb38f7d9",
   "metadata": {},
   "outputs": [],
   "source": [
    "X_train, X_test, y_train, y_test = train_test_split(X, y, test_size=0.2, random_state=42)"
   ]
  },
  {
   "cell_type": "code",
   "execution_count": null,
   "id": "c6598d7a-2cd8-4a16-8aee-e6f3f118c521",
   "metadata": {},
   "outputs": [],
   "source": [
    "# Initialize model\n",
    "model = LogisticRegression()\n",
    "\n",
    "# Train model\n",
    "model.fit(X_train, y_train)"
   ]
  },
  {
   "cell_type": "code",
   "execution_count": null,
   "id": "088e0fab-4fc8-44f8-accb-5c7427260626",
   "metadata": {},
   "outputs": [],
   "source": [
    "y_pred = model.predict(X_test)\n",
    "cm = confusion_matrix(y_test, y_pred)\n",
    "print(cm)"
   ]
  },
  {
   "cell_type": "code",
   "execution_count": null,
   "id": "d273b277-9827-442e-8f83-e062db1046d0",
   "metadata": {},
   "outputs": [],
   "source": [
    "from sklearn.metrics import precision_score, recall_score, f1_score\n",
    "\n",
    "precision = precision_score(y_test, y_pred, average='binary')\n",
    "recall = recall_score(y_test, y_pred, average='binary')\n",
    "f1 = f1_score(y_test, y_pred, average='binary')\n",
    "\n",
    "print(f'Precision: {precision}')\n",
    "print(f'Recall: {recall}')\n",
    "print(f'F1-Score: {f1}')"
   ]
  },
  {
   "cell_type": "code",
   "execution_count": null,
   "id": "8e8d326a-809d-4c85-94ce-af477d599b4c",
   "metadata": {},
   "outputs": [],
   "source": [
    "from sklearn.metrics import roc_auc_score\n",
    "\n",
    "roc_auc = roc_auc_score(y_test, model.predict_proba(X_test)[:, 1])\n",
    "print(f'ROC-AUC Score: {roc_auc}')"
   ]
  },
  {
   "cell_type": "code",
   "execution_count": null,
   "id": "7380ed4a-64ca-4f86-aa46-9e006ebad9c7",
   "metadata": {},
   "outputs": [],
   "source": [
    "import matplotlib.pyplot as plt\n",
    "from sklearn.metrics import roc_curve, auc\n",
    " \n",
    "# Get the predicted probabilities for the positive class (class 1) for both models\n",
    "y_probs_lr = model.predict_proba(X_test)[:, 1]\n",
    "\n",
    " \n",
    "# Compute the ROC curve for Logistic Regression\n",
    "fpr_lr, tpr_lr, _ = roc_curve(y_test, y_probs_lr)\n",
    "roc_auc_lr = auc(fpr_lr, tpr_lr)\n",
    " \n",
    "\n",
    "# Plot the ROC curve\n",
    "plt.figure(figsize=(8, 6))\n",
    " \n",
    "# Plot for Logistic Regression\n",
    "plt.plot(fpr_lr, tpr_lr, color='b', label=f'Logistic Regression (AUC = {roc_auc_lr:.2f})')\n",
    " \n",
    "# Plot for Random Forest\n",
    "# plt.plot(fpr_rf, tpr_rf, color='r', label=f'Random Forest (AUC = {roc_auc_rf:.2f})')\n",
    " \n",
    "# Random classifier line\n",
    "plt.plot([0, 1], [0, 1], color='gray', linestyle='--')\n",
    " \n",
    "# Labels and title\n",
    "plt.xlim([0.0, 1.0])\n",
    "plt.ylim([0.0, 1.05])\n",
    "plt.xlabel('False Positive Rate')\n",
    "plt.ylabel('True Positive Rate')\n",
    "plt.title('Receiver Operating Characteristic (ROC) Curve')\n",
    "plt.legend(loc='lower right')\n",
    " \n",
    "# Show plot\n",
    "plt.show()\n",
    " \n",
    "# Print the AUC values\n",
    "print(f\"Logistic Regression AUC: {roc_auc_lr:.2f}\")\n",
    "# print(f\"Random Forest AUC: {roc_auc_rf:.2f}\")"
   ]
  },
  {
   "cell_type": "code",
   "execution_count": null,
   "id": "122b5742-cbe0-49dc-998d-9a0cc8e46018",
   "metadata": {},
   "outputs": [],
   "source": [
    "####### working with adjusted thresholds \n",
    "\n",
    "y_probs = model.predict_proba(X_test)[:, 1]\n",
    "\n",
    "\n",
    "threshold = 0.1\n",
    "\n",
    "y_pred_adjusted = (y_probs >= threshold).astype(int)\n",
    "\n",
    "precision = precision_score(y_test, y_pred_adjusted, average='binary')\n",
    "recall = recall_score(y_test, y_pred_adjusted, average='binary')\n",
    "f1 = f1_score(y_test, y_pred_adjusted, average='binary')\n",
    "\n",
    "print(f'Threshold: {threshold}')\n",
    "print(f'Adjusted Precision: {precision}')\n",
    "print(f'Adjusted Recall: {recall}')\n",
    "print(f'Adjusted F1-Score: {f1}')\n",
    "\n"
   ]
  },
  {
   "cell_type": "markdown",
   "id": "57850ef0-4c05-4178-8eec-fb193a5f99a9",
   "metadata": {},
   "source": [
    "####Logistic Regression with balanced weights"
   ]
  },
  {
   "cell_type": "code",
   "execution_count": null,
   "id": "e65a0ee7-1c1d-470d-a24d-40e0fd7797bf",
   "metadata": {},
   "outputs": [],
   "source": [
    "# Initialize model\n",
    "model = LogisticRegression(class_weight = 'balanced')\n",
    "\n",
    "# Train model\n",
    "model.fit(X_train, y_train)"
   ]
  },
  {
   "cell_type": "code",
   "execution_count": null,
   "id": "9eb024c5-ce5d-4f12-b257-5f526fccc6df",
   "metadata": {},
   "outputs": [],
   "source": [
    "y_pred = model.predict(X_test)\n",
    "cm = confusion_matrix(y_test, y_pred)\n",
    "print(cm)"
   ]
  },
  {
   "cell_type": "code",
   "execution_count": null,
   "id": "567f77f9-e657-4222-ae20-5733058f9aab",
   "metadata": {},
   "outputs": [],
   "source": [
    "from sklearn.metrics import precision_score, recall_score, f1_score\n",
    "\n",
    "precision = precision_score(y_test, y_pred, average='binary')\n",
    "recall = recall_score(y_test, y_pred, average='binary')\n",
    "f1 = f1_score(y_test, y_pred, average='binary')\n",
    "\n",
    "print(f'Precision: {precision}')\n",
    "print(f'Recall: {recall}')\n",
    "print(f'F1-Score: {f1}')"
   ]
  },
  {
   "cell_type": "code",
   "execution_count": null,
   "id": "9c7cb014-c3ae-4540-9b14-04e691faa4fc",
   "metadata": {},
   "outputs": [],
   "source": [
    "import matplotlib.pyplot as plt\n",
    "from sklearn.metrics import roc_curve, auc\n",
    " \n",
    "# Get the predicted probabilities for the positive class (class 1) for both models\n",
    "y_probs_lr = model.predict_proba(X_test)[:, 1]\n",
    "\n",
    " \n",
    "# Compute the ROC curve for Logistic Regression\n",
    "fpr_lr, tpr_lr, _ = roc_curve(y_test, y_probs_lr)\n",
    "roc_auc_lr = auc(fpr_lr, tpr_lr)\n",
    " \n",
    "\n",
    "# Plot the ROC curve\n",
    "plt.figure(figsize=(8, 6))\n",
    " \n",
    "# Plot for Logistic Regression\n",
    "plt.plot(fpr_lr, tpr_lr, color='b', label=f'Logistic Regression (AUC = {roc_auc_lr:.2f})')\n",
    " \n",
    "# Plot for Random Forest\n",
    "# plt.plot(fpr_rf, tpr_rf, color='r', label=f'Random Forest (AUC = {roc_auc_rf:.2f})')\n",
    " \n",
    "# Random classifier line\n",
    "plt.plot([0, 1], [0, 1], color='gray', linestyle='--')\n",
    " \n",
    "# Labels and title\n",
    "plt.xlim([0.0, 1.0])\n",
    "plt.ylim([0.0, 1.05])\n",
    "plt.xlabel('False Positive Rate')\n",
    "plt.ylabel('True Positive Rate')\n",
    "plt.title('Receiver Operating Characteristic (ROC) Curve')\n",
    "plt.legend(loc='lower right')\n",
    " \n",
    "# Show plot\n",
    "plt.show()\n",
    " \n",
    "# Print the AUC values\n",
    "print(f\"Logistic Regression AUC: {roc_auc_lr:.2f}\")\n",
    "# print(f\"Random Forest AUC: {roc_auc_rf:.2f}\")"
   ]
  },
  {
   "cell_type": "code",
   "execution_count": null,
   "id": "c8045283-4f34-4295-ac06-dd377bf6bd5d",
   "metadata": {},
   "outputs": [],
   "source": []
  },
  {
   "cell_type": "code",
   "execution_count": null,
   "id": "d00412ea-7781-49a1-95c5-2427720698e4",
   "metadata": {},
   "outputs": [],
   "source": []
  }
 ],
 "metadata": {
  "kernelspec": {
   "display_name": "Python 3 (ipykernel)",
   "language": "python",
   "name": "python3"
  },
  "language_info": {
   "codemirror_mode": {
    "name": "ipython",
    "version": 3
   },
   "file_extension": ".py",
   "mimetype": "text/x-python",
   "name": "python",
   "nbconvert_exporter": "python",
   "pygments_lexer": "ipython3",
   "version": "3.12.7"
  }
 },
 "nbformat": 4,
 "nbformat_minor": 5
}
